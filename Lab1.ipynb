{
 "cells": [
  {
   "cell_type": "markdown",
   "metadata": {},
   "source": [
    "1. Fibonacci sequence\n",
    "Plot elements with indexes n-th and n+1 of the Fibonacci sequence"
   ]
  },
  {
   "cell_type": "code",
   "execution_count": 3,
   "metadata": {},
   "outputs": [
    {
     "name": "stdout",
     "output_type": "stream",
     "text": [
      "89\n"
     ]
    }
   ],
   "source": [
    "import numpy as np\n",
    "from numpy.linalg import matrix_power\n",
    "def fib(n):\n",
    "    A = np.array([[1,1],[1,0]])\n",
    "    f = [1,0]\n",
    "    fib_val = matrix_power(A, n)@f\n",
    "    return fib_val[0]\n",
    "print(fib(10))\n"
   ]
  },
  {
   "cell_type": "markdown",
   "metadata": {},
   "source": [
    "2. Basketball\n",
    "Bob and John take turns shooting baskets. Bob makes it to the basket on average one out of four times, John one out of three times. Bob begins. The person who hits it first wins.\n",
    "What is the probability of each player winning?\n",
    "Conduct 1e6 games between players and count how many times each player won. Based on this, determine the (approximate) probability.\n"
   ]
  },
  {
   "cell_type": "code",
   "execution_count": 45,
   "metadata": {},
   "outputs": [
    {
     "name": "stdout",
     "output_type": "stream",
     "text": [
      "Bob's winning probability: 0.499597\n",
      "John's winning probability: 0.500403\n"
     ]
    }
   ],
   "source": [
    "import random\n",
    "\n",
    "bob_wins = 0\n",
    "john_wins = 0\n",
    "games = int(1e6)\n",
    "\n",
    "for i in range(games):\n",
    "    while True:\n",
    "        if random.random() < 0.25:\n",
    "            bob_wins += 1\n",
    "            break\n",
    "        if random.random() < 1/3:\n",
    "            john_wins += 1\n",
    "            break\n",
    "print(f\"Bob's winning probability: {bob_wins / games}\")\n",
    "print(f\"John's winning probability: {john_wins / games}\")\n"
   ]
  },
  {
   "cell_type": "markdown",
   "metadata": {},
   "source": [
    "3. The goal of the last exercise is to plot the Mandelbrot set (Fractal) using the following steps:\n",
    "a. Set the range of the complex plane: XY: 𝑥 ∈ 〈−2, 1〉, 𝑦 ∈ 〈−1.5, 1.5〉 and step = 0.1.\n",
    "Use: np.arange()\n",
    "b. Generate the two matrices associated with the real and imaginary coordinates (using\n",
    "meshgrid function). Add the two matrices in such a way that the resulting C – matrix\n",
    "contains the coordinates of the complex plane in the range specified in step a.\n",
    "c. Define zeros matrix: Z of the same size as C (use: np.zeros_like(C)).\n",
    "d. Implement Mandelbrot recurrence based on the following pseudocode:\n",
    "                                for k=1:100\n",
    "                                    Each element of Z:\n",
    "                                        Zij=Zij^2+Cij"
   ]
  },
  {
   "cell_type": "code",
   "execution_count": 4,
   "metadata": {},
   "outputs": [
    {
     "name": "stderr",
     "output_type": "stream",
     "text": [
      "/var/folders/49/t7h5w2h56mj63ddjm9wdf0sw0000gn/T/ipykernel_41264/1824547703.py:9: RuntimeWarning: overflow encountered in square\n",
      "  Z = Z**2 + C\n",
      "/var/folders/49/t7h5w2h56mj63ddjm9wdf0sw0000gn/T/ipykernel_41264/1824547703.py:9: RuntimeWarning: invalid value encountered in square\n",
      "  Z = Z**2 + C\n"
     ]
    },
    {
     "data": {
      "text/plain": [
       "<matplotlib.image.AxesImage at 0x10ec49be0>"
      ]
     },
     "execution_count": 4,
     "metadata": {},
     "output_type": "execute_result"
    },
    {
     "data": {
      "image/png": "[encoded data removed]",
      "text/plain": [
       "<Figure size 640x480 with 1 Axes>"
      ]
     },
     "metadata": {},
     "output_type": "display_data"
    }
   ],
   "source": [
    "import matplotlib.pyplot as plt\n",
    "\n",
    "re_range = np.arange(-2, 2.1, 0.001)\n",
    "im_range = np.arange(-2, 2.1, 0.001)\n",
    "Re, Im = np.meshgrid(re_range, im_range)\n",
    "C = Re + 1j * Im\n",
    "Z = np.zeros_like(Re)\n",
    "for i in range(100):\n",
    "    Z = Z**2 + C\n",
    "\n",
    "plt.imshow(np.abs(Z) < 2)"
   ]
  },
  {
   "cell_type": "markdown",
   "metadata": {},
   "source": [
    "4. Generate 2 random matrices (e.g. random.rand()) 1000x1000: A and B and one vector (c) with length 1000. Check how much memory these arrays take up (A.nbytes).\n",
    "● What is the maximum size of the square random matrix which fits in 32 GB RAM?\n",
    "● Perform the multiplication operation (you can use @ operator):\n",
    "d=A*B*c.\n",
    "Check how to best perform these operations to minimize the computation time (import time, time.time()). Do the times obtained correspond to the number of floating point operations?"
   ]
  },
  {
   "cell_type": "code",
   "execution_count": null,
   "metadata": {},
   "outputs": [
    {
     "name": "stdout",
     "output_type": "stream",
     "text": [
      "Memory used by A: 8.0 MB\n",
      "Memory used by B: 8.0 MB\n",
      "Memory used by c: 0.008 MB\n"
     ]
    }
   ],
   "source": [
    "\n",
    "\n",
    "A = np.random.rand(1000, 1000)\n",
    "B = np.random.rand(1000, 1000)\n",
    "c = np.random.rand(1000)\n",
    "\n",
    "\n",
    "print(f\"Memory used by A: {A.nbytes / 1e6} MB\")\n",
    "print(f\"Memory used by B: {B.nbytes / 1e6} MB\")\n",
    "print(f\"Memory used by c: {c.nbytes / 1e6} MB\")"
   ]
  }
 ],
 "metadata": {
  "kernelspec": {
   "display_name": "Python 3",
   "language": "python",
   "name": "python3"
  },
  "language_info": {
   "codemirror_mode": {
    "name": "ipython",
    "version": 3
   },
   "file_extension": ".py",
   "mimetype": "text/x-python",
   "name": "python",
   "nbconvert_exporter": "python",
   "pygments_lexer": "ipython3",
   "version": "3.13.1"
  }
 },
 "nbformat": 4,
 "nbformat_minor": 2
}
